{
 "cells": [
  {
   "cell_type": "markdown",
   "metadata": {},
   "source": [
    "# 24th August Assignment"
   ]
  },
  {
   "cell_type": "markdown",
   "metadata": {},
   "source": [
    "Question 1: Given the list fruits = ['apple', 'banana', 'cherry'], how can you add the item 'orange' to the end of the list?"
   ]
  },
  {
   "cell_type": "code",
   "execution_count": 2,
   "metadata": {},
   "outputs": [
    {
     "name": "stdout",
     "output_type": "stream",
     "text": [
      "['apple', 'banana', 'cherry', 'orange']\n"
     ]
    }
   ],
   "source": [
    "list_fruits = ['apple', 'banana', 'cherry']\n",
    "list_fruits.append('orange')  # Using append function\n",
    "print(list_fruits)"
   ]
  },
  {
   "cell_type": "markdown",
   "metadata": {},
   "source": [
    "Question 2: If you have the list numbers = [1, 2, 3, 4, 5], what method would you use to remove the item 3 from the list?"
   ]
  },
  {
   "cell_type": "code",
   "execution_count": 3,
   "metadata": {},
   "outputs": [
    {
     "name": "stdout",
     "output_type": "stream",
     "text": [
      "[1, 2, 4, 5]\n"
     ]
    }
   ],
   "source": [
    "list_1=  [1,2,3,4,5]\n",
    "list_1.remove(3)  # Using remove function\n",
    "print(list_1)"
   ]
  },
  {
   "cell_type": "markdown",
   "metadata": {},
   "source": [
    "Question 3: You have the list colors = ['red', 'green', 'blue']. How can you insert the item 'yellow' at the second position in the list?"
   ]
  },
  {
   "cell_type": "code",
   "execution_count": 5,
   "metadata": {},
   "outputs": [
    {
     "name": "stdout",
     "output_type": "stream",
     "text": [
      "['red', 'yellow', 'green', 'blue']\n"
     ]
    }
   ],
   "source": [
    "list_col = ['red', 'green', 'blue']\n",
    "list_col.insert(1, 'yellow') # Using insert function\n",
    "print(list_col)"
   ]
  },
  {
   "cell_type": "markdown",
   "metadata": {},
   "source": [
    "Question 4: If you have the list letters = ['a', 'b', 'c', 'a', 'd'], how many occurrences of the letter 'a' are there in the list?"
   ]
  },
  {
   "cell_type": "code",
   "execution_count": 9,
   "metadata": {},
   "outputs": [
    {
     "name": "stdout",
     "output_type": "stream",
     "text": [
      "2\n"
     ]
    }
   ],
   "source": [
    "list_letters = ['a', 'b', 'c', 'a', 'd']\n",
    "print(list_letters.count('a')) # By Using count function"
   ]
  },
  {
   "cell_type": "markdown",
   "metadata": {},
   "source": [
    "Question 5: Given the list data = [10, 20, 30, 40, 50], which method can you use to remove and return the last item from the list?"
   ]
  },
  {
   "cell_type": "code",
   "execution_count": 10,
   "metadata": {},
   "outputs": [
    {
     "name": "stdout",
     "output_type": "stream",
     "text": [
      "[10, 20, 30, 40]\n"
     ]
    }
   ],
   "source": [
    "list_data = [10, 20, 30, 40, 50]\n",
    "list_data.pop() # By Using POP function\n",
    "print(list_data)"
   ]
  },
  {
   "cell_type": "markdown",
   "metadata": {},
   "source": [
    "Question 6: If you want to sort the list values = [4, 1, 7, 3, 9] in ascending order, which method would you use?"
   ]
  },
  {
   "cell_type": "code",
   "execution_count": 12,
   "metadata": {},
   "outputs": [
    {
     "name": "stdout",
     "output_type": "stream",
     "text": [
      "[1, 3, 4, 7, 9]\n"
     ]
    }
   ],
   "source": [
    "list_values = [4, 1, 7, 3, 9]\n",
    "list_values.sort() # By using sort function\n",
    "print(list_values)"
   ]
  },
  {
   "cell_type": "markdown",
   "metadata": {},
   "source": [
    "Question 7: You have the list cities = ['New York', 'Los Angeles', 'Chicago','Houston']. How can you find the index of the item 'Chicago'?"
   ]
  },
  {
   "cell_type": "code",
   "execution_count": 15,
   "metadata": {},
   "outputs": [
    {
     "name": "stdout",
     "output_type": "stream",
     "text": [
      "2\n"
     ]
    }
   ],
   "source": [
    "list_cities = ['New York', 'Los Angeles', 'Chicago','Houston']\n",
    "print(list_cities.index('Chicago'))  # By Using index function"
   ]
  },
  {
   "cell_type": "markdown",
   "metadata": {},
   "source": [
    "Question 8: Given the list animals = ['dog', 'cat', 'elephant', 'lion'], how can you replace 'elephant' with 'tiger'?"
   ]
  },
  {
   "cell_type": "code",
   "execution_count": 27,
   "metadata": {},
   "outputs": [
    {
     "name": "stdout",
     "output_type": "stream",
     "text": [
      "Method_1: ['dog', 'cat', 'tiger', 'lion']\n",
      "Method_2: ['dog', 'cat', 'tiger', 'lion']\n"
     ]
    }
   ],
   "source": [
    "# By indicating index number\n",
    "list_animals = ['dog', 'cat', 'elephant', 'lion']\n",
    "list_animals[2] = 'tiger'\n",
    "print(f\"Method_1: {list_animals}\")\n",
    "\n",
    "# By using for loop\n",
    "list_animals = ['dog', 'cat', 'elephant', 'lion']\n",
    "\n",
    "for i in range(len(list_animals)):\n",
    "    if list_animals[i] == 'elephant':\n",
    "        list_animals[i] = 'tiger'\n",
    "print(f\"Method_2: {list_animals}\")\n"
   ]
  },
  {
   "cell_type": "markdown",
   "metadata": {},
   "source": [
    "Question 9: If you have the list numbers = [5, 2, 8, 2, 1], what method can you use to count the number of occurrences of the value 2?"
   ]
  },
  {
   "cell_type": "code",
   "execution_count": 29,
   "metadata": {},
   "outputs": [
    {
     "name": "stdout",
     "output_type": "stream",
     "text": [
      "2\n"
     ]
    }
   ],
   "source": [
    "list_numbers = [5, 2, 8, 2, 1]\n",
    "print(list_numbers.count(2))"
   ]
  },
  {
   "cell_type": "markdown",
   "metadata": {},
   "source": [
    "Question 10: You have the list fruits = ['apple', 'banana', 'cherry']. How can you reverse the order of the items in the list? can you use to remove and return the last item from the list?"
   ]
  },
  {
   "cell_type": "code",
   "execution_count": 31,
   "metadata": {},
   "outputs": [
    {
     "name": "stdout",
     "output_type": "stream",
     "text": [
      "['cherry', 'banana', 'apple']\n"
     ]
    }
   ],
   "source": [
    "list_fruits = ['apple', 'banana', 'cherry']\n",
    "list_fruits.reverse()\n",
    "print(list_fruits)"
   ]
  },
  {
   "cell_type": "markdown",
   "metadata": {},
   "source": [
    "# 25th August Assignment"
   ]
  },
  {
   "cell_type": "markdown",
   "metadata": {},
   "source": [
    "Check a character exists in a number or not?"
   ]
  },
  {
   "cell_type": "code",
   "execution_count": 50,
   "metadata": {},
   "outputs": [
    {
     "name": "stdout",
     "output_type": "stream",
     "text": [
      "The character 9 does not exist in the number.\n"
     ]
    }
   ],
   "source": [
    "number = \"17117214578\"\n",
    "\n",
    "string_number = str(number)\n",
    "\n",
    "checked_char = input(\"Enter which number you are searching for: \")\n",
    "\n",
    "if checked_char in string_number:\n",
    "    print(f\"The character {checked_char} exists in the number.\")\n",
    "else:\n",
    "    print(f\"The character {checked_char} does not exist in the number.\")\n"
   ]
  },
  {
   "cell_type": "code",
   "execution_count": null,
   "metadata": {},
   "outputs": [],
   "source": []
  }
 ],
 "metadata": {
  "kernelspec": {
   "display_name": "base",
   "language": "python",
   "name": "python3"
  },
  "language_info": {
   "codemirror_mode": {
    "name": "ipython",
    "version": 3
   },
   "file_extension": ".py",
   "mimetype": "text/x-python",
   "name": "python",
   "nbconvert_exporter": "python",
   "pygments_lexer": "ipython3",
   "version": "3.9.13"
  },
  "orig_nbformat": 4
 },
 "nbformat": 4,
 "nbformat_minor": 2
}
