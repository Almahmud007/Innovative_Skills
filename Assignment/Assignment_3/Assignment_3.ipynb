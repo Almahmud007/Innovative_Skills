{
 "cells": [
  {
   "cell_type": "markdown",
   "metadata": {},
   "source": [
    "# 24th August Assignment"
   ]
  },
  {
   "cell_type": "markdown",
   "metadata": {},
   "source": [
    "Question 1: Given the list fruits = ['apple', 'banana', 'cherry'], how can you add the item 'orange' to the end of the list?"
   ]
  },
  {
   "cell_type": "code",
   "execution_count": 2,
   "metadata": {},
   "outputs": [
    {
     "name": "stdout",
     "output_type": "stream",
     "text": [
      "['apple', 'banana', 'cherry', 'orange']\n"
     ]
    }
   ],
   "source": [
    "list_fruits = ['apple', 'banana', 'cherry']\n",
    "list_fruits.append('orange')  # Using append function\n",
    "print(list_fruits)"
   ]
  },
  {
   "cell_type": "markdown",
   "metadata": {},
   "source": [
    "Question 2: If you have the list numbers = [1, 2, 3, 4, 5], what method would you use to remove the item 3 from the list?"
   ]
  },
  {
   "cell_type": "code",
   "execution_count": 3,
   "metadata": {},
   "outputs": [
    {
     "name": "stdout",
     "output_type": "stream",
     "text": [
      "[1, 2, 4, 5]\n"
     ]
    }
   ],
   "source": [
    "list_1=  [1,2,3,4,5]\n",
    "list_1.remove(3)  # Using remove function\n",
    "print(list_1)"
   ]
  },
  {
   "cell_type": "markdown",
   "metadata": {},
   "source": [
    "Question 3: You have the list colors = ['red', 'green', 'blue']. How can you insert the item 'yellow' at the second position in the list?"
   ]
  },
  {
   "cell_type": "code",
   "execution_count": 5,
   "metadata": {},
   "outputs": [
    {
     "name": "stdout",
     "output_type": "stream",
     "text": [
      "['red', 'yellow', 'green', 'blue']\n"
     ]
    }
   ],
   "source": [
    "list_col = ['red', 'green', 'blue']\n",
    "list_col.insert(1, 'yellow') # Using insert function\n",
    "print(list_col)"
   ]
  },
  {
   "cell_type": "markdown",
   "metadata": {},
   "source": [
    "Question 4: If you have the list letters = ['a', 'b', 'c', 'a', 'd'], how many occurrences of the letter 'a' are there in the list?"
   ]
  },
  {
   "cell_type": "code",
   "execution_count": 9,
   "metadata": {},
   "outputs": [
    {
     "name": "stdout",
     "output_type": "stream",
     "text": [
      "2\n"
     ]
    }
   ],
   "source": [
    "list_letters = ['a', 'b', 'c', 'a', 'd']\n",
    "print(list_letters.count('a')) # By Using count function"
   ]
  },
  {
   "cell_type": "markdown",
   "metadata": {},
   "source": [
    "Question 5: Given the list data = [10, 20, 30, 40, 50], which method can you use to remove and return the last item from the list?"
   ]
  },
  {
   "cell_type": "code",
   "execution_count": 10,
   "metadata": {},
   "outputs": [
    {
     "name": "stdout",
     "output_type": "stream",
     "text": [
      "[10, 20, 30, 40]\n"
     ]
    }
   ],
   "source": [
    "list_data = [10, 20, 30, 40, 50]\n",
    "list_data.pop() # By Using POP function\n",
    "print(list_data)"
   ]
  },
  {
   "cell_type": "markdown",
   "metadata": {},
   "source": [
    "Question 6: If you want to sort the list values = [4, 1, 7, 3, 9] in ascending order, which method would you use?"
   ]
  },
  {
   "cell_type": "code",
   "execution_count": 12,
   "metadata": {},
   "outputs": [
    {
     "name": "stdout",
     "output_type": "stream",
     "text": [
      "[1, 3, 4, 7, 9]\n"
     ]
    }
   ],
   "source": [
    "list_values = [4, 1, 7, 3, 9]\n",
    "list_values.sort() # By using sort function\n",
    "print(list_values)"
   ]
  },
  {
   "cell_type": "markdown",
   "metadata": {},
   "source": [
    "Question 7: You have the list cities = ['New York', 'Los Angeles', 'Chicago','Houston']. How can you find the index of the item 'Chicago'?"
   ]
  },
  {
   "cell_type": "code",
   "execution_count": 15,
   "metadata": {},
   "outputs": [
    {
     "name": "stdout",
     "output_type": "stream",
     "text": [
      "2\n"
     ]
    }
   ],
   "source": [
    "list_cities = ['New York', 'Los Angeles', 'Chicago','Houston']\n",
    "print(list_cities.index('Chicago'))  # By Using index function"
   ]
  },
  {
   "cell_type": "markdown",
   "metadata": {},
   "source": [
    "Question 8: Given the list animals = ['dog', 'cat', 'elephant', 'lion'], how can you replace 'elephant' with 'tiger'?"
   ]
  },
  {
   "cell_type": "code",
   "execution_count": 27,
   "metadata": {},
   "outputs": [
    {
     "name": "stdout",
     "output_type": "stream",
     "text": [
      "Method_1: ['dog', 'cat', 'tiger', 'lion']\n",
      "Method_2: ['dog', 'cat', 'tiger', 'lion']\n"
     ]
    }
   ],
   "source": [
    "# By indicating index number\n",
    "list_animals = ['dog', 'cat', 'elephant', 'lion']\n",
    "list_animals[2] = 'tiger'\n",
    "print(f\"Method_1: {list_animals}\")\n",
    "\n",
    "# By using for loop\n",
    "list_animals = ['dog', 'cat', 'elephant', 'lion']\n",
    "\n",
    "for i in range(len(list_animals)):\n",
    "    if list_animals[i] == 'elephant':\n",
    "        list_animals[i] = 'tiger'\n",
    "print(f\"Method_2: {list_animals}\")\n"
   ]
  },
  {
   "cell_type": "markdown",
   "metadata": {},
   "source": [
    "Question 9: If you have the list numbers = [5, 2, 8, 2, 1], what method can you use to count the number of occurrences of the value 2?"
   ]
  },
  {
   "cell_type": "code",
   "execution_count": 29,
   "metadata": {},
   "outputs": [
    {
     "name": "stdout",
     "output_type": "stream",
     "text": [
      "2\n"
     ]
    }
   ],
   "source": [
    "list_numbers = [5, 2, 8, 2, 1]\n",
    "print(list_numbers.count(2))"
   ]
  },
  {
   "cell_type": "markdown",
   "metadata": {},
   "source": [
    "Question 10: You have the list fruits = ['apple', 'banana', 'cherry']. How can you reverse the order of the items in the list? can you use to remove and return the last item from the list?"
   ]
  },
  {
   "cell_type": "code",
   "execution_count": 31,
   "metadata": {},
   "outputs": [
    {
     "name": "stdout",
     "output_type": "stream",
     "text": [
      "['cherry', 'banana', 'apple']\n"
     ]
    }
   ],
   "source": [
    "list_fruits = ['apple', 'banana', 'cherry']\n",
    "list_fruits.reverse()\n",
    "print(list_fruits)"
   ]
  },
  {
   "cell_type": "markdown",
   "metadata": {},
   "source": [
    "# 25th August Assignment"
   ]
  },
  {
   "cell_type": "markdown",
   "metadata": {},
   "source": [
    "Check a character exists in a number or not?"
   ]
  },
  {
   "cell_type": "code",
   "execution_count": 50,
   "metadata": {},
   "outputs": [
    {
     "name": "stdout",
     "output_type": "stream",
     "text": [
      "The character 9 does not exist in the number.\n"
     ]
    }
   ],
   "source": [
    "number = \"17117214578\"\n",
    "\n",
    "string_number = str(number)\n",
    "\n",
    "checked_char = input(\"Enter which number you are searching for: \")\n",
    "\n",
    "if checked_char in string_number:\n",
    "    print(f\"The character {checked_char} exists in the number.\")\n",
    "else:\n",
    "    print(f\"The character {checked_char} does not exist in the number.\")\n"
   ]
  },
  {
   "cell_type": "markdown",
   "metadata": {},
   "source": [
    "# 27th August"
   ]
  },
  {
   "cell_type": "code",
   "execution_count": 1,
   "metadata": {},
   "outputs": [
    {
     "name": "stdout",
     "output_type": "stream",
     "text": [
      "You have entered below marks.\n",
      "******************************\n",
      "Grade for Bangla 1: B  --> 3.0\n",
      "Grade for Bangla 2: A+ --> 5.0\n",
      "Grade for English 1: A+ --> 5.0\n",
      "Grade for English 2: A+ --> 5.0\n",
      "Grade for Math: A --> 4.0\n",
      "Grade for ICT: A+ --> 5.0\n",
      "Grade for Physics: A+ --> 5.0\n",
      "Grade for Chemistry: A+ --> 5.0\n",
      "Grade for Biology: A+ --> 5.0\n",
      "Grade for Higher Math: A+ --> 5.0\n",
      "Grade for Religion: A+ --> 5.0\n"
     ]
    }
   ],
   "source": [
    "def grading(mark):\n",
    "    if mark >= 80 and mark <= 100:\n",
    "        return \"A+ --> 5.0\"\n",
    "    elif mark >= 70 and mark < 80:\n",
    "        return \"A --> 4.0\"\n",
    "    elif mark >= 60 and mark < 70:\n",
    "        return \"A-  --> 3.5\"\n",
    "    elif mark >= 50 and mark < 60:\n",
    "        return \"B  --> 3.0\"\n",
    "    elif mark >= 40 and mark < 50:\n",
    "        return \"C --> 2.0\"\n",
    "    elif mark >= 33 and mark < 40:\n",
    "        return \"D --> 1.0\"\n",
    "    elif mark >= 0 and mark < 33:\n",
    "        return \"F --> 0.0\"\n",
    "    else:\n",
    "        return \"You have entered wrong input. Please provide correct number between 0 to 100\"\n",
    "\n",
    "Bangla_1 = float(input(\"Enter Bangla First Paper Number: \"))\n",
    "Bangla_2 = float(input(\"Enter Bangla Second Paper Number: \"))\n",
    "English_1 = float(input(\"Enter English First Paper Number: \"))\n",
    "English_2 = float(input(\"Enter English Second Paper Number: \"))\n",
    "Math = float(input(\"Enter Math Paper Number: \"))\n",
    "ICT = float(input(\"Enter ICT Paper Number: \"))\n",
    "Physics = float(input(\"Enter Physics Paper Number: \"))\n",
    "Chemistry = float(input(\"Enter Chemistry Paper Number: \"))\n",
    "Biology = float(input(\"Enter Biology Paper Number: \"))\n",
    "Higher_Math = float(input(\"Enter Higher Math Paper Number: \"))\n",
    "Religion = float(input(\"Enter Religion Paper Number: \"))\n",
    "\n",
    "b1 = grading(Bangla_1)\n",
    "b2 = grading(Bangla_2)\n",
    "e1 = grading(English_1)\n",
    "e2 = grading(English_2)\n",
    "m = grading(Math)\n",
    "ict = grading(ICT)\n",
    "phy = grading(Physics)\n",
    "chem = grading(Chemistry)\n",
    "bio = grading(Biology)\n",
    "hm = grading(Higher_Math)\n",
    "rel = grading(Religion)\n",
    "\n",
    "print(30*'*')\n",
    "print(f\"Grade for Bangla 1: {b1}\")\n",
    "print(f\"Grade for Bangla 2: {b2}\")\n",
    "print(f\"Grade for English 1: {e1}\")\n",
    "print(f\"Grade for English 2: {e2}\")\n",
    "print(f\"Grade for Math: {m}\")\n",
    "print(f\"Grade for ICT: {ict}\")\n",
    "print(f\"Grade for Physics: {phy}\")\n",
    "print(f\"Grade for Chemistry: {chem}\")\n",
    "print(f\"Grade for Biology: {bio}\")\n",
    "print(f\"Grade for Higher Math: {hm}\")\n",
    "print(f\"Grade for Religion: {rel}\")"
   ]
  },
  {
   "cell_type": "code",
   "execution_count": null,
   "metadata": {},
   "outputs": [],
   "source": []
  }
 ],
 "metadata": {
  "kernelspec": {
   "display_name": "base",
   "language": "python",
   "name": "python3"
  },
  "language_info": {
   "codemirror_mode": {
    "name": "ipython",
    "version": 3
   },
   "file_extension": ".py",
   "mimetype": "text/x-python",
   "name": "python",
   "nbconvert_exporter": "python",
   "pygments_lexer": "ipython3",
   "version": "3.9.13"
  },
  "orig_nbformat": 4
 },
 "nbformat": 4,
 "nbformat_minor": 2
}
