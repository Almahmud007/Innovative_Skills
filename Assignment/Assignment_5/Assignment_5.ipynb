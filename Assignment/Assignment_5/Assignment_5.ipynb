{
 "cells": [
  {
   "cell_type": "markdown",
   "metadata": {},
   "source": [
    "# Question-1:"
   ]
  },
  {
   "cell_type": "code",
   "execution_count": 21,
   "metadata": {},
   "outputs": [
    {
     "name": "stdout",
     "output_type": "stream",
     "text": [
      "Answer of sample standard deviation is 2.14\n"
     ]
    }
   ],
   "source": [
    "datas = [2,4,4,4,5,5,7,9]\n",
    "\n",
    "def summation(datas):\n",
    "    sum = 0\n",
    "    for i in datas:\n",
    "        sum += i\n",
    "    return sum\n",
    "\n",
    "\n",
    "def length(datas):\n",
    "    return len(datas)\n",
    "\n",
    "length(datas)\n",
    "\n",
    "sample_mean = summation(datas) / length(datas)\n",
    "\n",
    "sum_sample_mean = 0\n",
    "\n",
    "for data in datas:\n",
    "    var_1 = (data - sample_mean)**2\n",
    "    sum_sample_mean += var_1\n",
    "    \n",
    "standard_deviation_sample = ((sum_sample_mean)/(length(datas)-1))**0.5\n",
    "\n",
    "print(f\"Answer of sample standard deviation is {standard_deviation_sample:.2f}\")\n",
    "\n",
    "\n"
   ]
  },
  {
   "cell_type": "markdown",
   "metadata": {},
   "source": [
    "# Question-2:"
   ]
  },
  {
   "cell_type": "code",
   "execution_count": 61,
   "metadata": {},
   "outputs": [
    {
     "name": "stdout",
     "output_type": "stream",
     "text": [
      "Output_1 is: [1, 2, 3, 4, 5, 6, 7, 8, 9, 0, 1, 2, 3, 4, 5, 6]\n",
      "Output_2 is: ['Odd', 'Even', 'Odd', 'Even', 'Odd', 'Even', 'Odd', 'Even', 'Odd', 'Even', 'Odd', 'Even', 'Odd', 'Even', 'Odd', 'Even']\n",
      "Output_3 is: [10, 26, 12, 18]\n",
      "Output_2 is: ['Even', 'Even', 'Even', 'Even']\n"
     ]
    }
   ],
   "source": [
    "import time\n",
    "datas = [1,2,3,4,5,6,7,8,9,10,11,12,13,14,15,16]\n",
    "\n",
    "# output-1:\n",
    "output_1 = []\n",
    "for i in datas:\n",
    "    val = str(i)\n",
    "    if len(val) > 1:\n",
    "        val_2 = val[1]\n",
    "        val_3 = int(val_2)\n",
    "        output_1.append(val_3)\n",
    "    else:\n",
    "        val_4 = int(val)\n",
    "        output_1.append(val_4)\n",
    "        \n",
    "print(f\"Output_1 is: {output_1}\")\n",
    "\n",
    "time.sleep(1)\n",
    "\n",
    "# output_2\n",
    "\n",
    "output_2 = []\n",
    "\n",
    "for i in datas:\n",
    "    if i%2 == 0:\n",
    "        val_1 = \"Even\"\n",
    "        output_2.append(val_1)\n",
    "    else:\n",
    "        output_2.append(\"Odd\")\n",
    "print(f\"Output_2 is: {output_2}\")\n",
    "\n",
    "time.sleep(1)\n",
    "\n",
    "# Output_3\n",
    "\n",
    "output_3 = []\n",
    "\n",
    "def summation(data):\n",
    "    sum_1 = 0\n",
    "    for i in data:\n",
    "        sum_1 += i\n",
    "    return sum_1\n",
    "\n",
    "for i in range(0, len(output_1), 4):\n",
    "    subset = output_1[i:i+4]\n",
    "    subset_sum = summation(subset)\n",
    "    output_3.append(subset_sum)\n",
    "\n",
    "print(f\"Output_3 is: {output_3}\")\n",
    "\n",
    "time.sleep(1)\n",
    "# Output_4\n",
    "output_4 = []\n",
    "\n",
    "for i in output_3:\n",
    "    if i%2 == 0:\n",
    "        val_1 = \"Even\"\n",
    "        output_4.append(val_1)\n",
    "    else:\n",
    "        output_4.append(\"Odd\")\n",
    "print(f\"Output_2 is: {output_4}\")"
   ]
  }
 ],
 "metadata": {
  "kernelspec": {
   "display_name": "base",
   "language": "python",
   "name": "python3"
  },
  "language_info": {
   "codemirror_mode": {
    "name": "ipython",
    "version": 3
   },
   "file_extension": ".py",
   "mimetype": "text/x-python",
   "name": "python",
   "nbconvert_exporter": "python",
   "pygments_lexer": "ipython3",
   "version": "3.9.13"
  },
  "orig_nbformat": 4
 },
 "nbformat": 4,
 "nbformat_minor": 2
}
